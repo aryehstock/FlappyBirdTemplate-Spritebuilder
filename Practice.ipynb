{
  "nbformat": 4,
  "nbformat_minor": 0,
  "metadata": {
    "colab": {
      "name": "Practice.ipynb",
      "version": "0.3.2",
      "provenance": [],
      "include_colab_link": true
    },
    "kernelspec": {
      "name": "python3",
      "display_name": "Python 3"
    }
  },
  "cells": [
    {
      "cell_type": "markdown",
      "metadata": {
        "id": "view-in-github",
        "colab_type": "text"
      },
      "source": [
        "<a href=\"https://colab.research.google.com/github/aryehstock/FlappyBirdTemplate-Spritebuilder/blob/master/Practice.ipynb\" target=\"_parent\"><img src=\"https://colab.research.google.com/assets/colab-badge.svg\" alt=\"Open In Colab\"/></a>"
      ]
    },
    {
      "metadata": {
        "id": "irGdtioiqqt4",
        "colab_type": "code",
        "outputId": "c9e735d0-eeb6-46e7-b013-7fd513fa99e0",
        "colab": {
          "base_uri": "https://localhost:8080/",
          "height": 68
        }
      },
      "cell_type": "code",
      "source": [
        "msg = \"Hello World\"\n",
        "print(msg)\n",
        "mssg = input(\"WHo are you?\")\n",
        "print(mssg)\n"
      ],
      "execution_count": 0,
      "outputs": [
        {
          "output_type": "stream",
          "text": [
            "Hello World\n",
            "WHo are you?Aryeh\n",
            "Aryeh\n"
          ],
          "name": "stdout"
        }
      ]
    }
  ]
}